{
 "cells": [
  {
   "attachments": {},
   "cell_type": "markdown",
   "metadata": {},
   "source": [
    "### Infer the fine-tuned model"
   ]
  },
  {
   "cell_type": "code",
   "execution_count": 1,
   "metadata": {},
   "outputs": [],
   "source": [
    "model_path = \"./model/medium-tech\"\n",
    "text = \"Data scientists use VS Code as their tool\"\n",
    "# text = \"Today, technology is\"\n",
    "# text = \"Data science is for everyone\"\n",
    "# text = \"VS Code notebook experiences are\""
   ]
  },
  {
   "cell_type": "code",
   "execution_count": 2,
   "metadata": {},
   "outputs": [],
   "source": [
    "from transformers import AutoTokenizer, AutoModelForCausalLM\n",
    "import torch\n",
    "\n",
    "ft_tokenizer = AutoTokenizer.from_pretrained(model_path)\n",
    "ft_model = AutoModelForCausalLM.from_pretrained(model_path)"
   ]
  },
  {
   "cell_type": "code",
   "execution_count": 6,
   "metadata": {},
   "outputs": [
    {
     "name": "stdout",
     "output_type": "stream",
     "text": [
      "Data scientists use VS Code as their toolkit team and the VS Code team team is able to code to create and maintain their proprietary security products through rigorous research, analysis and documentation.\n",
      "\n",
      "These systems will provide all tools that enable hackers to execute various types of computer systems remotely remotely, making their lives easier with impunity. A few important examples of those systems include machine-wide logins and offline storage, and virtualization as a security strategy.\n",
      "\n",
      "A Microsoft VS Code Security\n"
     ]
    }
   ],
   "source": [
    "ft_input_ids = ft_tokenizer.encode(text, return_tensors='pt')\n",
    "\n",
    "output = ft_model.generate(ft_input_ids, attention_mask = torch.ones_like(ft_input_ids), pad_token_id=ft_tokenizer.eos_token_id,\n",
    "                              max_length=100, do_sample=True)\n",
    "\n",
    "print(ft_tokenizer.decode(output[0], skip_special_tokens=True))"
   ]
  }
 ],
 "metadata": {
  "kernelspec": {
   "display_name": "Python 3",
   "language": "python",
   "name": "python3"
  },
  "language_info": {
   "codemirror_mode": {
    "name": "ipython",
    "version": 3
   },
   "file_extension": ".py",
   "mimetype": "text/x-python",
   "name": "python",
   "nbconvert_exporter": "python",
   "pygments_lexer": "ipython3",
   "version": "3.10.4"
  },
  "orig_nbformat": 4,
  "vscode": {
   "interpreter": {
    "hash": "3ad933181bd8a04b432d3370b9dc3b0662ad032c4dfaa4e4f1596c548f763858"
   }
  }
 },
 "nbformat": 4,
 "nbformat_minor": 2
}
